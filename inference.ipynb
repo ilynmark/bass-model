{
 "cells": [
  {
   "cell_type": "code",
   "execution_count": 3,
   "id": "e7507e63-bf28-45bf-884e-1230330d64c2",
   "metadata": {
    "tags": []
   },
   "outputs": [
    {
     "ename": "ModuleNotFoundError",
     "evalue": "No module named 'bassmodel'",
     "output_type": "error",
     "traceback": [
      "\u001b[0;31m---------------------------------------------------------------------------\u001b[0m",
      "\u001b[0;31mModuleNotFoundError\u001b[0m                       Traceback (most recent call last)",
      "Cell \u001b[0;32mIn[3], line 1\u001b[0m\n\u001b[0;32m----> 1\u001b[0m \u001b[38;5;28;01mfrom\u001b[39;00m \u001b[38;5;21;01mbassmodel\u001b[39;00m\u001b[38;5;21;01m.\u001b[39;00m\u001b[38;5;21;01mvisualize\u001b[39;00m\u001b[38;5;21;01m.\u001b[39;00m\u001b[38;5;21;01mvisualize\u001b[39;00m \u001b[38;5;28;01mimport\u001b[39;00m Visualize\n",
      "\u001b[0;31mModuleNotFoundError\u001b[0m: No module named 'bassmodel'"
     ]
    }
   ],
   "source": [
    "from bassmodel.visualize.visualize import Visualize"
   ]
  },
  {
   "cell_type": "code",
   "execution_count": null,
   "id": "419c94b2-28e7-4a60-8c66-4a91f0ee84c5",
   "metadata": {
    "tags": []
   },
   "outputs": [],
   "source": [
    "data_path = '../data/smartphones.csv'"
   ]
  },
  {
   "cell_type": "code",
   "execution_count": null,
   "id": "530398f4-4160-41f9-bdc5-15e7cc9f74bb",
   "metadata": {},
   "outputs": [],
   "source": [
    "# Create an instance of the Visualization class\n",
    "bass_model = Visualize(filename=data_path)"
   ]
  },
  {
   "cell_type": "code",
   "execution_count": null,
   "id": "3a88bd4b-9d58-41b8-922c-c4089c791c7b",
   "metadata": {},
   "outputs": [],
   "source": [
    "# Fit the data to the Bass Model\n",
    "bass_model.fit()"
   ]
  },
  {
   "cell_type": "code",
   "execution_count": null,
   "id": "8717bbdd-766f-403d-b881-7ebfd104ad32",
   "metadata": {},
   "outputs": [],
   "source": [
    "# Perform predictions\n",
    "m, p, q = bass_model.predict()"
   ]
  },
  {
   "cell_type": "code",
   "execution_count": null,
   "id": "70ddedf3-8aa3-445d-b7d4-73be48bb9d6e",
   "metadata": {},
   "outputs": [],
   "source": [
    "# Visualize the predicted sales\n",
    "bass_model.plot_pdf()"
   ]
  },
  {
   "cell_type": "code",
   "execution_count": null,
   "id": "a597c3fe-cf45-4244-8854-05293df3f3e9",
   "metadata": {},
   "outputs": [],
   "source": [
    "# Visualize the cumulative predicted sales\n",
    "bass_model.plot_cdf()"
   ]
  },
  {
   "cell_type": "code",
   "execution_count": null,
   "id": "5680bf18-ef04-4374-bd8a-663c931a24ef",
   "metadata": {},
   "outputs": [],
   "source": [
    "# Display the summary\n",
    "bass_model.summary()"
   ]
  },
  {
   "cell_type": "code",
   "execution_count": null,
   "id": "5e4e2c96-2fbe-4816-9762-7c8b53927a01",
   "metadata": {
    "tags": []
   },
   "outputs": [],
   "source": [
    "# Print the predicted and actual peak periods\n",
    "bass_model.print_peak_periods()"
   ]
  },
  {
   "cell_type": "code",
   "execution_count": null,
   "id": "9f21da25-e5c8-4e78-9a8c-ea37ce770cbe",
   "metadata": {},
   "outputs": [],
   "source": []
  }
 ],
 "metadata": {
  "kernelspec": {
   "display_name": "Python 3 (ipykernel)",
   "language": "python",
   "name": "python3"
  },
  "language_info": {
   "codemirror_mode": {
    "name": "ipython",
    "version": 3
   },
   "file_extension": ".py",
   "mimetype": "text/x-python",
   "name": "python",
   "nbconvert_exporter": "python",
   "pygments_lexer": "ipython3",
   "version": "3.10.9"
  }
 },
 "nbformat": 4,
 "nbformat_minor": 5
}
